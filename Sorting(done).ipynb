{
 "cells": [
  {
   "cell_type": "code",
   "execution_count": 5,
   "metadata": {},
   "outputs": [],
   "source": [
    "arr = [77,43,12,89,6,2,1,101]"
   ]
  },
  {
   "cell_type": "code",
   "execution_count": 8,
   "metadata": {},
   "outputs": [],
   "source": [
    "def bubbleSort(arr):\n",
    "    n = len(arr)\n",
    "    \n",
    "    #when range is -ve loop will not run\n",
    "    for i in range(n):\n",
    "        for j in range(n-i-1):\n",
    "            if arr[j] > arr[j+1]:\n",
    "                arr[j],arr[j+1] = arr[j+1],arr[j]\n",
    "                \n",
    "bubbleSort(arr)"
   ]
  },
  {
   "cell_type": "code",
   "execution_count": 9,
   "metadata": {},
   "outputs": [
    {
     "data": {
      "text/plain": [
       "[1, 2, 6, 12, 43, 77, 89, 101]"
      ]
     },
     "execution_count": 9,
     "metadata": {},
     "output_type": "execute_result"
    }
   ],
   "source": [
    "arr"
   ]
  },
  {
   "cell_type": "code",
   "execution_count": 14,
   "metadata": {},
   "outputs": [],
   "source": [
    "arr = [77,43,12,89,6,2,1,101]"
   ]
  },
  {
   "cell_type": "code",
   "execution_count": 15,
   "metadata": {},
   "outputs": [],
   "source": [
    "def selectionSort(arr):\n",
    "    n = len(arr)\n",
    "    \n",
    "    for i in range(n):\n",
    "        min_idx = i\n",
    "        for j in range(i+1,len(arr)):\n",
    "            if arr[min_idx] > arr[j]:\n",
    "                min_idx = j\n",
    "                \n",
    "        arr[i],arr[min_idx] = arr[min_idx],arr[i]\n",
    "        \n",
    "        \n",
    "selectionSort(arr)        "
   ]
  },
  {
   "cell_type": "code",
   "execution_count": 16,
   "metadata": {},
   "outputs": [
    {
     "data": {
      "text/plain": [
       "[1, 2, 6, 12, 43, 77, 89, 101]"
      ]
     },
     "execution_count": 16,
     "metadata": {},
     "output_type": "execute_result"
    }
   ],
   "source": [
    "arr"
   ]
  },
  {
   "cell_type": "code",
   "execution_count": 3,
   "metadata": {},
   "outputs": [],
   "source": [
    "arr = [77,43,12,89,6,2,1,101]"
   ]
  },
  {
   "cell_type": "code",
   "execution_count": 4,
   "metadata": {},
   "outputs": [],
   "source": [
    "def insertionSort(arr):\n",
    "    n = len(arr)\n",
    "    \n",
    "    for i in range (1,n):\n",
    "        j = i-1\n",
    "        element = arr[i]\n",
    "        while j >= 0 and element < arr[j]:\n",
    "            arr[j+1] = arr[j]\n",
    "            #element which will be lost is stored in element\n",
    "            j = j-1\n",
    "        arr[j+1] = element\n",
    "insertionSort(arr)"
   ]
  },
  {
   "cell_type": "raw",
   "metadata": {},
   "source": []
  },
  {
   "cell_type": "code",
   "execution_count": 23,
   "metadata": {},
   "outputs": [
    {
     "data": {
      "text/plain": [
       "[0, 0, 0, 12, 13, 0]"
      ]
     },
     "execution_count": 23,
     "metadata": {},
     "output_type": "execute_result"
    }
   ],
   "source": [
    "arr"
   ]
  },
  {
   "cell_type": "code",
   "execution_count": 35,
   "metadata": {},
   "outputs": [
    {
     "data": {
      "text/plain": [
       "[12, 11, 13, 5, 6, 7]"
      ]
     },
     "execution_count": 35,
     "metadata": {},
     "output_type": "execute_result"
    }
   ],
   "source": [
    "def merge(arr,l,m,r):\n",
    "    n1 = m - l + 1\n",
    "    n2 = r - m\n",
    "    subarr1 = [0] * n1\n",
    "    subarr2 = [0] * n2\n",
    "    \n",
    "    for i in range(n1):\n",
    "        subarr1[i] = arr[l+i]\n",
    "        \n",
    "    for j in range(n2):\n",
    "        subarr2[j] = arr[m+1+j]\n",
    "        \n",
    "    i = 0\n",
    "    j = 0\n",
    "    k = l\n",
    "    \n",
    "    while(i < n1 and j< n2):\n",
    "        if subarr1[i] <= subarr2[j]:\n",
    "            arr[k] = subarr1[i]\n",
    "            i = i + 1\n",
    "        else:\n",
    "            arr[k] = subarr2[j]\n",
    "            j = j + 1\n",
    "        k = k + 1\n",
    "        \n",
    "    while i < n1:\n",
    "        arr[k] = subarr1[i]\n",
    "        k = k + 1\n",
    "        i = i + 1\n",
    "        \n",
    "    while j < n2:\n",
    "        arr[k] = subarr2[j]\n",
    "        k = k + 1\n",
    "        j = j + 1\n",
    "        \n",
    "        \n",
    "def merge_sort(arr,l,r):\n",
    "    if l < r:\n",
    "        m = int((l + r)/2)\n",
    "        merge_sort(arr,l,m)\n",
    "        merge_sort(arr,m+1,r)\n",
    "        merge(arr,l,m,r)\n",
    "        \n",
    "arr = [12,11,13,5,6,7]\n",
    "n = len(arr)\n",
    "arr"
   ]
  },
  {
   "cell_type": "code",
   "execution_count": 36,
   "metadata": {},
   "outputs": [],
   "source": [
    "merge_sort(arr,0,n-1)"
   ]
  },
  {
   "cell_type": "code",
   "execution_count": 37,
   "metadata": {},
   "outputs": [
    {
     "data": {
      "text/plain": [
       "[5, 6, 7, 11, 12, 13]"
      ]
     },
     "execution_count": 37,
     "metadata": {},
     "output_type": "execute_result"
    }
   ],
   "source": [
    "arr\n"
   ]
  },
  {
   "cell_type": "code",
   "execution_count": null,
   "metadata": {},
   "outputs": [],
   "source": []
  },
  {
   "cell_type": "code",
   "execution_count": null,
   "metadata": {},
   "outputs": [],
   "source": []
  },
  {
   "cell_type": "code",
   "execution_count": 56,
   "metadata": {},
   "outputs": [
    {
     "name": "stdout",
     "output_type": "stream",
     "text": [
      "[12, 34, 9, 1, 5, 32, 4]\n"
     ]
    }
   ],
   "source": [
    "def partition(arr,low,high):\n",
    "    i = low - 1\n",
    "    pivot = arr[high]\n",
    "    #pivot is at high\n",
    "    \n",
    "    for j in range(low,high):\n",
    "        if arr[j] <= pivot:\n",
    "            i = i + 1\n",
    "            arr[i],arr[j] = arr[j],arr[i]\n",
    "            \n",
    "    arr[i+1],arr[high] = arr[high],arr[i+1]   \n",
    "    return i+1\n",
    "\n",
    "\n",
    "def quickSort(arr,low,high):\n",
    "    if low < high:\n",
    "        pivot = partition(arr,low,high)\n",
    "        quickSort(arr,low,pivot-1)\n",
    "        quickSort(arr,pivot+1,high)\n",
    "        \n",
    "arr = [12,34,9,1,5,32,4]\n",
    "print(arr)\n",
    "n = len(arr)\n",
    "quickSort(arr,0,n-1)"
   ]
  },
  {
   "cell_type": "code",
   "execution_count": 57,
   "metadata": {},
   "outputs": [
    {
     "data": {
      "text/plain": [
       "[1, 4, 5, 9, 12, 32, 34]"
      ]
     },
     "execution_count": 57,
     "metadata": {},
     "output_type": "execute_result"
    }
   ],
   "source": [
    "arr"
   ]
  },
  {
   "cell_type": "code",
   "execution_count": null,
   "metadata": {},
   "outputs": [],
   "source": []
  }
 ],
 "metadata": {
  "kernelspec": {
   "display_name": "Python 3",
   "language": "python",
   "name": "python3"
  },
  "language_info": {
   "codemirror_mode": {
    "name": "ipython",
    "version": 3
   },
   "file_extension": ".py",
   "mimetype": "text/x-python",
   "name": "python",
   "nbconvert_exporter": "python",
   "pygments_lexer": "ipython3",
   "version": "3.6.5"
  }
 },
 "nbformat": 4,
 "nbformat_minor": 2
}
