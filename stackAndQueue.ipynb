{
 "cells": [
  {
   "cell_type": "code",
   "execution_count": 1,
   "metadata": {},
   "outputs": [],
   "source": [
    "# A simple class stack that only allows pop and push operations\n",
    "class Stack:\n",
    "\n",
    "    def __init__(self):\n",
    "        self.stack = []\n",
    "\n",
    "    def pop(self):\n",
    "        if len(self.stack) < 1:\n",
    "            return None\n",
    "        return self.stack.pop()\n",
    "\n",
    "    def push(self, item):\n",
    "        self.stack.append(item)\n",
    "\n",
    "    def size(self):\n",
    "        return len(self.stack)\n",
    "\n",
    "# And a queue that only has enqueue and dequeue operations\n",
    "class Queue:\n",
    "\n",
    "    def __init__(self):\n",
    "        self.queue = []\n",
    "\n",
    "    def enqueue(self, item):\n",
    "        self.queue.append(item)\n",
    "\n",
    "    def dequeue(self):\n",
    "        if len(self.queue) < 1:\n",
    "            return None\n",
    "        return self.queue.pop(0)\n",
    "\n",
    "    def size(self):\n",
    "        return len(self.queue) "
   ]
  },
  {
   "cell_type": "code",
   "execution_count": 2,
   "metadata": {},
   "outputs": [],
   "source": [
    "document_actions = Stack()\n",
    "\n",
    "# The first enters the title of the document\n",
    "document_actions.push('action: enter; text_id: 1; text: This is my favourite document')\n",
    "# Next they center the text\n",
    "document_actions.push('action: format; text_id: 1; alignment: center')\n",
    "# As with most writers, the user is unhappy with the first draft and undoes the center alignment\n",
    "document_actions.pop()\n",
    "# The title is better on the left with bold font\n",
    "document_actions.push('action: format; text_id: 1; style: bold')"
   ]
  },
  {
   "cell_type": "code",
   "execution_count": 6,
   "metadata": {},
   "outputs": [
    {
     "name": "stdout",
     "output_type": "stream",
     "text": [
      "['action: enter; text_id: 1; text: This is my favourite document', 'action: format; text_id: 1; style: bold']\n"
     ]
    }
   ],
   "source": [
    "print(document_actions.stack)"
   ]
  },
  {
   "cell_type": "code",
   "execution_count": 5,
   "metadata": {},
   "outputs": [],
   "source": [
    "input_queue = Queue()\n",
    "\n",
    "# The player wants to get the upper hand so pressing the right combination of buttons quickly\n",
    "input_queue.enqueue('DOWN')\n",
    "input_queue.enqueue('RIGHT')\n",
    "input_queue.enqueue('B')\n",
    "\n",
    "# Now we can process each item in the queue by dequeueing them\n",
    "key_pressed = input_queue.dequeue() # 'DOWN'\n",
    "\n",
    "# We'll probably change our player position\n",
    "key_pressed = input_queue.dequeue() # 'RIGHT'\n",
    "\n",
    "# We'll change the player's position again and keep track of a potential special move to perform\n",
    "key_pressed = input_queue.dequeue() # 'B'\n",
    "\n",
    "# This can do the act, but the game's logic will know to do the special move"
   ]
  },
  {
   "cell_type": "code",
   "execution_count": 7,
   "metadata": {},
   "outputs": [
    {
     "data": {
      "text/plain": [
       "[]"
      ]
     },
     "execution_count": 7,
     "metadata": {},
     "output_type": "execute_result"
    }
   ],
   "source": [
    "input_queue.queue"
   ]
  },
  {
   "cell_type": "code",
   "execution_count": null,
   "metadata": {},
   "outputs": [],
   "source": []
  }
 ],
 "metadata": {
  "kernelspec": {
   "display_name": "Python 3",
   "language": "python",
   "name": "python3"
  },
  "language_info": {
   "codemirror_mode": {
    "name": "ipython",
    "version": 3
   },
   "file_extension": ".py",
   "mimetype": "text/x-python",
   "name": "python",
   "nbconvert_exporter": "python",
   "pygments_lexer": "ipython3",
   "version": "3.6.5"
  }
 },
 "nbformat": 4,
 "nbformat_minor": 2
}
