{
 "cells": [
  {
   "cell_type": "code",
   "execution_count": 1,
   "metadata": {},
   "outputs": [
    {
     "name": "stdout",
     "output_type": "stream",
     "text": [
      "sum of 15 and 18 is 33\n"
     ]
    }
   ],
   "source": [
    "#add two numbers\n",
    "\n",
    "num1 = 15\n",
    "num2 = 18\n",
    "\n",
    "sum = num1 + num2\n",
    "print(\"sum of {0} and {1} is {2}\".format(num1,num2,sum))"
   ]
  },
  {
   "cell_type": "code",
   "execution_count": 3,
   "metadata": {},
   "outputs": [
    {
     "name": "stdout",
     "output_type": "stream",
     "text": [
      "first number34\n",
      "\n",
      "second number33\n",
      "sum of 34 and 33 is 67.0\n"
     ]
    }
   ],
   "source": [
    "#add two numbers by taking user input\n",
    "\n",
    "num1 = input(\"first number\")\n",
    "num2 = input(\"\\nsecond number\")\n",
    "\n",
    "sum = float(num1) + float(num2)\n",
    "\n",
    "print(\"sum of {0} and {1} is {2}\".format(num1,num2,sum))"
   ]
  },
  {
   "cell_type": "code",
   "execution_count": 4,
   "metadata": {},
   "outputs": [
    {
     "data": {
      "text/plain": [
       "120"
      ]
     },
     "execution_count": 4,
     "metadata": {},
     "output_type": "execute_result"
    }
   ],
   "source": [
    "\n",
    "        "
   ]
  },
  {
   "cell_type": "code",
   "execution_count": 5,
   "metadata": {},
   "outputs": [
    {
     "name": "stdout",
     "output_type": "stream",
     "text": [
      "simple interest is 5125.0\n"
     ]
    }
   ],
   "source": [
    "#simple interest\n",
    "\n",
    "principal = 10000\n",
    "rate = 10.25\n",
    "time = 5\n",
    "\n",
    "si = (principal * rate * time)/100\n",
    "print(\"simple interest is\",si)"
   ]
  },
  {
   "cell_type": "code",
   "execution_count": 6,
   "metadata": {},
   "outputs": [
    {
     "data": {
      "text/plain": [
       "16288.946267774416"
      ]
     },
     "execution_count": 6,
     "metadata": {},
     "output_type": "execute_result"
    }
   ],
   "source": [
    "#compund interest\n",
    "\n",
    "CI = principal * (pow(1 + (rate/100),time))\n",
    "CI"
   ]
  },
  {
   "cell_type": "code",
   "execution_count": 17,
   "metadata": {},
   "outputs": [
    {
     "data": {
      "text/plain": [
       "True"
      ]
     },
     "execution_count": 17,
     "metadata": {},
     "output_type": "execute_result"
    }
   ],
   "source": [
    "# Armstrong number\n",
    "\n",
    "def power(x,y):\n",
    "    if y == 0:\n",
    "        return 1\n",
    "    if y%2 == 0:\n",
    "        tmp1 = power(x,y//2)\n",
    "        return tmp1 * tmp1\n",
    "    tmp2 = power(x,y//2)\n",
    "    return x * tmp2 * tmp2\n",
    "\n",
    "#for calculating digits use // operator\n",
    "#for each digit use % operator\n",
    "# / operator turns float\n",
    "def number_of_digits(x):\n",
    "    n = 0\n",
    "    while x != 0:\n",
    "        x = x//10\n",
    "        n += 1\n",
    "    return n\n",
    "\n",
    "def isArmstrong(x):\n",
    "    n = number_of_digits(x)\n",
    "    tmp = x\n",
    "    sum1 = 0\n",
    "    while(tmp != 0):\n",
    "        digit = tmp % 10\n",
    "        sum1 += power(digit,n)\n",
    "        tmp = tmp//10\n",
    "        \n",
    "    return (sum1 == x)\n",
    "\n",
    "isArmstrong(1634)"
   ]
  },
  {
   "cell_type": "code",
   "execution_count": 8,
   "metadata": {},
   "outputs": [
    {
     "data": {
      "text/plain": [
       "1"
      ]
     },
     "execution_count": 8,
     "metadata": {},
     "output_type": "execute_result"
    }
   ],
   "source": [
    "3//2"
   ]
  },
  {
   "cell_type": "code",
   "execution_count": 10,
   "metadata": {},
   "outputs": [
    {
     "data": {
      "text/plain": [
       "1.5"
      ]
     },
     "execution_count": 10,
     "metadata": {},
     "output_type": "execute_result"
    }
   ],
   "source": [
    "3/2"
   ]
  },
  {
   "cell_type": "code",
   "execution_count": 11,
   "metadata": {},
   "outputs": [
    {
     "data": {
      "text/plain": [
       "10.2"
      ]
     },
     "execution_count": 11,
     "metadata": {},
     "output_type": "execute_result"
    }
   ],
   "source": [
    "102/10"
   ]
  },
  {
   "cell_type": "code",
   "execution_count": 19,
   "metadata": {},
   "outputs": [
    {
     "data": {
      "text/plain": [
       "False"
      ]
     },
     "execution_count": 19,
     "metadata": {},
     "output_type": "execute_result"
    }
   ],
   "source": [
    "#Armstrong number using predefined functions\n",
    "\n",
    "def newisArmstrong(x):\n",
    "    n = len(str(x))\n",
    "    tmp = x\n",
    "    sum1 = 0\n",
    "    while(tmp != 0):\n",
    "        digit = tmp % 10\n",
    "        sum1 += pow(digit,n)\n",
    "        tmp = tmp//10\n",
    "        \n",
    "    return (sum1 == x)\n",
    "\n",
    "newisArmstrong(1253)"
   ]
  },
  {
   "cell_type": "code",
   "execution_count": 20,
   "metadata": {},
   "outputs": [],
   "source": [
    "#print nth armstrong number"
   ]
  },
  {
   "cell_type": "code",
   "execution_count": 21,
   "metadata": {},
   "outputs": [
    {
     "name": "stdout",
     "output_type": "stream",
     "text": [
      "78.53981633974483\n"
     ]
    }
   ],
   "source": [
    "import math\n",
    "\n",
    "r = 5\n",
    "print(math.pi * r * r)"
   ]
  },
  {
   "cell_type": "code",
   "execution_count": 36,
   "metadata": {},
   "outputs": [
    {
     "name": "stdout",
     "output_type": "stream",
     "text": [
      "11\n",
      "13\n",
      "17\n",
      "19\n",
      "23\n"
     ]
    }
   ],
   "source": [
    "# print prime numbers in an interval\n",
    "\n",
    "def prime_range(x,y):\n",
    "    for val in range(x,y+1):\n",
    "        if val > 1:\n",
    "            flag = 1\n",
    "            for i in range(2,val):\n",
    "                if(val % i) == 0:\n",
    "                    flag = 0\n",
    "                    break\n",
    "            if flag == 1:\n",
    "                print (val)\n",
    "        \n",
    "                    \n",
    "                    \n",
    "prime_range(11,25)"
   ]
  },
  {
   "cell_type": "code",
   "execution_count": 37,
   "metadata": {},
   "outputs": [
    {
     "name": "stdout",
     "output_type": "stream",
     "text": [
      "11\n",
      "13\n",
      "17\n",
      "19\n",
      "23\n"
     ]
    }
   ],
   "source": [
    "# print prime numbers in an interval\n",
    "#here if else looks wrong but its fine. here if every if fails then only\n",
    "#else is run\n",
    "\n",
    "def new_prime_range(x,y):\n",
    "    for val in range(x,y+1):\n",
    "        if val > 1:\n",
    "            flag = 1\n",
    "            for i in range(2,val):\n",
    "                if(val % i) == 0:\n",
    "                    break\n",
    "            else:\n",
    "                print (val)\n",
    "                    \n",
    "new_prime_range(11,25)"
   ]
  },
  {
   "cell_type": "code",
   "execution_count": 5,
   "metadata": {},
   "outputs": [
    {
     "data": {
      "text/plain": [
       "[2,\n",
       " 3,\n",
       " 5,\n",
       " 7,\n",
       " 11,\n",
       " 13,\n",
       " 17,\n",
       " 19,\n",
       " 23,\n",
       " 29,\n",
       " 31,\n",
       " 37,\n",
       " 41,\n",
       " 43,\n",
       " 47,\n",
       " 53,\n",
       " 59,\n",
       " 61,\n",
       " 67,\n",
       " 71,\n",
       " 73,\n",
       " 79,\n",
       " 83,\n",
       " 89,\n",
       " 97]"
      ]
     },
     "execution_count": 5,
     "metadata": {},
     "output_type": "execute_result"
    }
   ],
   "source": [
    "#get all prime numbers below n\n",
    "#elements in lis are not prime numbers\n",
    "\n",
    "def SieveOfEratosthenes(n):\n",
    "    result = []\n",
    "    lis = []\n",
    "    for i in range(2,n+1):\n",
    "        if i not in lis:\n",
    "            result.append(i)\n",
    "            for j in range(i*i,n+1,i):\n",
    "                lis.append(j)            \n",
    "    return result\n",
    "                \n",
    "SieveOfEratosthenes(100)\n"
   ]
  },
  {
   "cell_type": "code",
   "execution_count": 12,
   "metadata": {},
   "outputs": [
    {
     "name": "stdout",
     "output_type": "stream",
     "text": [
      "Is Prime:  2\n",
      "Is Prime:  3\n",
      "Is Prime:  5\n",
      "Is Prime:  7\n",
      "Is Prime:  11\n",
      "Is Prime:  13\n",
      "Is Prime:  17\n",
      "Is Prime:  19\n",
      "Is Prime:  23\n",
      "Is Prime:  29\n",
      "Is Prime:  31\n",
      "Is Prime:  37\n",
      "Is Prime:  41\n",
      "Is Prime:  43\n",
      "Is Prime:  47\n",
      "Is Prime:  53\n",
      "Is Prime:  59\n",
      "Is Prime:  61\n",
      "Is Prime:  67\n",
      "Is Prime:  71\n",
      "Is Prime:  73\n",
      "Is Prime:  79\n",
      "Is Prime:  83\n",
      "Is Prime:  89\n",
      "Is Prime:  97\n"
     ]
    }
   ],
   "source": [
    "#to check whether x is prime or not\n",
    "import math\n",
    "\n",
    "def is_prime(x):\n",
    "    for i in range(2,int(math.sqrt(x)+1)):\n",
    "        if(x % i == 0):\n",
    "            break\n",
    "    else:\n",
    "        print(\"Is Prime: \",x)\n",
    "\n",
    "for i in range(2,101):\n",
    "    is_prime(i)"
   ]
  },
  {
   "cell_type": "code",
   "execution_count": 14,
   "metadata": {},
   "outputs": [
    {
     "data": {
      "text/plain": [
       "21"
      ]
     },
     "execution_count": 14,
     "metadata": {},
     "output_type": "execute_result"
    }
   ],
   "source": [
    "#nth fibonacci number\n",
    "\n",
    "def nth_fib(n):\n",
    "    if(n < 0):\n",
    "        print(\"fibonacci is not defined for -ve numbers\")\n",
    "        return\n",
    "    elif n==0 or n==1:\n",
    "        return n\n",
    "    a = 0\n",
    "    b = 1\n",
    "    for j in range(2,n):\n",
    "        c = a + b\n",
    "        a = b\n",
    "        b = c\n",
    "    return b\n",
    "\n",
    "nth_fib(9)   "
   ]
  },
  {
   "cell_type": "code",
   "execution_count": 17,
   "metadata": {},
   "outputs": [
    {
     "data": {
      "text/plain": [
       "[0, 1, 1, 2, 3, 5, 8, 13, 21]"
      ]
     },
     "execution_count": 17,
     "metadata": {},
     "output_type": "execute_result"
    }
   ],
   "source": [
    "#Print fibonacci series\n",
    "\n",
    "def fib(n):\n",
    "    if(n < 0):\n",
    "        print(\"fibonacci is not defined for -ve numbers\")\n",
    "        return\n",
    "    elif n==0 or n==1:\n",
    "        return n\n",
    "    res = [0,1]\n",
    "    a = 0\n",
    "    b = 1\n",
    "    for j in range(2,n):\n",
    "        c = a + b\n",
    "        a = b\n",
    "        b = c\n",
    "        res.append(c)\n",
    "    return res\n",
    "\n",
    "fib(9)"
   ]
  },
  {
   "cell_type": "code",
   "execution_count": 44,
   "metadata": {},
   "outputs": [
    {
     "name": "stdout",
     "output_type": "stream",
     "text": [
      "True\n",
      "True\n",
      "True\n",
      "False\n",
      "True\n",
      "False\n",
      "False\n",
      "True\n",
      "False\n",
      "False\n"
     ]
    }
   ],
   "source": [
    "#check if n is fibonacci or not\n",
    "#A number is Fibonacci if and only if one or both of \n",
    "#(5*n2 + 4) or (5*n2 – 4) is a perfect square\n",
    "import math\n",
    "\n",
    "def is_fib(n):\n",
    "    x = (5 *n *n) + 4\n",
    "    xx = int(math.sqrt((5 *n *n) + 4))\n",
    "    \n",
    "    y = (5 *n *n) - 4\n",
    "    yy = int(math.sqrt((5 *n *n) - 4))\n",
    "    \n",
    "    if xx**2 == x or yy**2 == y:\n",
    "        return True\n",
    "    else:\n",
    "        return False\n",
    "\n",
    "for i in range(1,11):\n",
    "    print(is_fib(i))\n",
    "    "
   ]
  },
  {
   "cell_type": "code",
   "execution_count": 45,
   "metadata": {},
   "outputs": [
    {
     "data": {
      "text/plain": [
       "99"
      ]
     },
     "execution_count": 45,
     "metadata": {},
     "output_type": "execute_result"
    }
   ],
   "source": [
    "#print ASCII value of character\n",
    "\n",
    "ord('c')"
   ]
  },
  {
   "cell_type": "code",
   "execution_count": 49,
   "metadata": {},
   "outputs": [
    {
     "data": {
      "text/plain": [
       "67"
      ]
     },
     "execution_count": 49,
     "metadata": {},
     "output_type": "execute_result"
    }
   ],
   "source": [
    "ord(\"C\")"
   ]
  },
  {
   "cell_type": "code",
   "execution_count": 1,
   "metadata": {},
   "outputs": [],
   "source": [
    "#sum of squares is n * n+1 * 2n+2 /6\n",
    "#sume of cubes (n(n+1)/2)**2"
   ]
  },
  {
   "cell_type": "code",
   "execution_count": null,
   "metadata": {},
   "outputs": [],
   "source": []
  }
 ],
 "metadata": {
  "kernelspec": {
   "display_name": "Python 3",
   "language": "python",
   "name": "python3"
  },
  "language_info": {
   "codemirror_mode": {
    "name": "ipython",
    "version": 3
   },
   "file_extension": ".py",
   "mimetype": "text/x-python",
   "name": "python",
   "nbconvert_exporter": "python",
   "pygments_lexer": "ipython3",
   "version": "3.6.5"
  }
 },
 "nbformat": 4,
 "nbformat_minor": 2
}
