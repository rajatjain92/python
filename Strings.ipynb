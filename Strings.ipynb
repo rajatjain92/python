{
 "cells": [
  {
   "cell_type": "code",
   "execution_count": 44,
   "metadata": {},
   "outputs": [
    {
     "name": "stdout",
     "output_type": "stream",
     "text": [
      "Enter the string: must do geeks\n"
     ]
    },
    {
     "data": {
      "text/plain": [
       "'geeks do must'"
      ]
     },
     "execution_count": 44,
     "metadata": {},
     "output_type": "execute_result"
    }
   ],
   "source": [
    "# REVERSE WORDS IN A STRING\n",
    "\n",
    "def reverseWords(inp):\n",
    "    list_words = inp.split(\" \")\n",
    "    list_words = list_words[-1::-1]\n",
    "    output = ' '.join(list_words)\n",
    "    return output\n",
    "\n",
    "\n",
    "inp = input(\"Enter the string: \")\n",
    "reverseWords(inp)"
   ]
  },
  {
   "cell_type": "code",
   "execution_count": null,
   "metadata": {},
   "outputs": [],
   "source": []
  },
  {
   "cell_type": "code",
   "execution_count": null,
   "metadata": {},
   "outputs": [],
   "source": []
  },
  {
   "cell_type": "code",
   "execution_count": 45,
   "metadata": {},
   "outputs": [
    {
     "name": "stdout",
     "output_type": "stream",
     "text": [
      " Default built in function\n",
      "abc\n",
      "acb\n",
      "bac\n",
      "bca\n",
      "cab\n",
      "cba\n"
     ]
    }
   ],
   "source": [
    "# PERMUTATION OF STRING / SET\n",
    "\n",
    "############### build in function #######################\n",
    "\n",
    "print(\" Default built in function\")\n",
    "from itertools import permutations\n",
    "\n",
    "str = 'abc'\n",
    "permlist = list(permutations(str))\n",
    "for i in permlist:\n",
    "    print(''.join(i))\n",
    "\n",
    "\n"
   ]
  },
  {
   "cell_type": "code",
   "execution_count": 48,
   "metadata": {},
   "outputs": [
    {
     "name": "stdout",
     "output_type": "stream",
     "text": [
      "[1, 2, 3, 4, 5]\n",
      "[2, 1, 3, 4, 5]\n"
     ]
    }
   ],
   "source": [
    "str = [1,2,3,4,5]\n",
    "print(str)\n",
    "\n",
    "def modify(s):\n",
    "    s[0],s[1] = s[1],s[0]\n",
    "    print(s)\n",
    "    \n",
    "modify(str)\n"
   ]
  },
  {
   "cell_type": "code",
   "execution_count": null,
   "metadata": {},
   "outputs": [],
   "source": []
  },
  {
   "cell_type": "code",
   "execution_count": null,
   "metadata": {},
   "outputs": [],
   "source": []
  },
  {
   "cell_type": "code",
   "execution_count": 49,
   "metadata": {},
   "outputs": [
    {
     "data": {
      "text/plain": [
       "[2, 1, 3, 4, 5]"
      ]
     },
     "execution_count": 49,
     "metadata": {},
     "output_type": "execute_result"
    }
   ],
   "source": [
    "str"
   ]
  },
  {
   "cell_type": "code",
   "execution_count": 50,
   "metadata": {},
   "outputs": [
    {
     "name": "stdout",
     "output_type": "stream",
     "text": [
      "\n",
      " Permutation from recursion\n",
      "ab\n",
      "ba\n"
     ]
    }
   ],
   "source": [
    "############## permutation from recursion ###############\n",
    "\n",
    "# explanation : https://www.youtube.com/watch?v=GuTPwotSdYw\n",
    "# string does not support new assignment that's why we need to convert it to list before calling function\n",
    "# list is passed as reference so if function modifies it, main list which is passed will be changed\n",
    "# try to remember recursion \n",
    "# for i in range(a,l,r):\n",
    "#    swap(a[i],a[l])\n",
    "#    recursion(a,l+1,r)\n",
    "#    swap_back(a[i],a[l])    #backtracking\n",
    "      \n",
    "    \n",
    "print(\"\\n Permutation from recursion\")\n",
    "def permutation_rec(a,l,r):\n",
    "    if l == r:\n",
    "        print (''.join(a))\n",
    "    else:\n",
    "        for i in range(l, r + 1): \n",
    "            a[l], a[i] = a[i], a[l]          #1\n",
    "            permutation_rec(a, l + 1, r) \n",
    "            a[l], a[i] = a[i], a[l]          #backtrack effect of 1 because when next iteration of i will start string should be same\n",
    "\n",
    "str = 'ab'\n",
    "l = 0\n",
    "r = len(str)-1\n",
    "permutation_rec(list(str),0,r)"
   ]
  },
  {
   "cell_type": "code",
   "execution_count": 51,
   "metadata": {},
   "outputs": [
    {
     "name": "stdout",
     "output_type": "stream",
     "text": [
      "geeksskeeg\n",
      "10\n"
     ]
    }
   ],
   "source": [
    "\n",
    "############### Longest Palindromic Substring ####################\n",
    "# consider each element index as centred element\n",
    "# check for both odd len and even len palindromes\n",
    "\n",
    "def lps(s):\n",
    "    #if all elements are distinct then we will return first char and 1 length\n",
    "    # to store result\n",
    "    max_len = 1\n",
    "    start = 0\n",
    "    \n",
    "    length = len(s)\n",
    "    \n",
    "    low = 0\n",
    "    high = 0\n",
    "    \n",
    "    #start with second elem\n",
    "    #consider each elem at i to be centre of palindrome\n",
    "    for i in range(1,length):\n",
    "        #for even length substring palindromes\n",
    "        low = i-1\n",
    "        high = i\n",
    "        \n",
    "        while low >= 0 and high < length and s[low] == s[high]:\n",
    "            if high - low + 1 > max_len:\n",
    "                max_len = high - low + 1\n",
    "                start = low\n",
    "            low = low - 1\n",
    "            high = high + 1\n",
    "        \n",
    "        #for odd length palindromes with centre at i\n",
    "        low = i - 1\n",
    "        high = i + 1\n",
    "        while low >= 0 and high < length and s[low] == s[high]:\n",
    "            if high - low + 1 > max_len:\n",
    "                max_len = high - low + 1\n",
    "                start = low\n",
    "            low = low - 1\n",
    "            high = high + 1\n",
    "            \n",
    "    print(s[start : start + max_len])\n",
    "    print(max_len)\n",
    "        \n",
    "\n",
    "s = \"forgeeksskeegfor\"\n",
    "lps(s)"
   ]
  },
  {
   "cell_type": "code",
   "execution_count": null,
   "metadata": {},
   "outputs": [],
   "source": []
  },
  {
   "cell_type": "code",
   "execution_count": null,
   "metadata": {},
   "outputs": [],
   "source": []
  },
  {
   "cell_type": "code",
   "execution_count": 13,
   "metadata": {},
   "outputs": [
    {
     "data": {
      "text/plain": [
       "'gksfor'"
      ]
     },
     "execution_count": 13,
     "metadata": {},
     "output_type": "execute_result"
    }
   ],
   "source": [
    "###### Recusively remove all adjacent duplicates in string #######\n",
    "\n",
    "def removeAdjacent(string,last_removed):\n",
    "    # If length of string is 1 or 0 \n",
    "    if len(string) == 0 or len(string) == 1: \n",
    "        return string \n",
    "  \n",
    "    # Remove leftmost same characters and recur for remaining  \n",
    "    # string \n",
    "    if string[0] == string[1]: \n",
    "        last_removed = ord(string[0]) \n",
    "        while len(string) > 1 and string[0] == string[1]: \n",
    "            string = string[1:] \n",
    "        string = string[1:] \n",
    "  \n",
    "        return removeAdjacent(string, last_removed) \n",
    "  \n",
    "    # At this point, the first character is definiotely different \n",
    "    # from its adjacent. Ignore first character and recursively  \n",
    "    # remove characters from remaining string \n",
    "    rem_str = removeAdjacent(string[1:], last_removed) \n",
    "  \n",
    "    # Check if the first character of the rem_string matches  \n",
    "    # with the first character of the original string \n",
    "    if len(rem_str) != 0 and rem_str[0] == string[0]: \n",
    "        last_removed = ord(string[0]) \n",
    "        return (rem_str[1:]) \n",
    "  \n",
    "    # If remaining string becomes empty and last removed character \n",
    "    # is same as first character of original string. This is needed \n",
    "    # for a string like \"acbbcddc\" \n",
    "    if len(rem_str) == 0 and last_removed == ord(string[0]): \n",
    "        return rem_str \n",
    "  \n",
    "    # If the two first characters of str and rem_str don't match,  \n",
    "    # append first character of str before the first character of  \n",
    "    # rem_str. \n",
    "    return (string[0] + rem_str) \n",
    "\n",
    "str = 'geeksforgeeg'\n",
    "removeAdjacent(str,0)\n"
   ]
  },
  {
   "cell_type": "code",
   "execution_count": 15,
   "metadata": {},
   "outputs": [
    {
     "data": {
      "text/plain": [
       "True"
      ]
     },
     "execution_count": 15,
     "metadata": {},
     "output_type": "execute_result"
    }
   ],
   "source": [
    "###### To check string is palindrome ###########33\n",
    "\n",
    "def isPalindrome(s):\n",
    "    rev = s[-1::-1]\n",
    "    \n",
    "    if s == rev:\n",
    "        return True\n",
    "    else:\n",
    "        return False\n",
    "    \n",
    "isPalindrome('malayalam')"
   ]
  },
  {
   "cell_type": "code",
   "execution_count": 16,
   "metadata": {},
   "outputs": [
    {
     "data": {
      "text/plain": [
       "True"
      ]
     },
     "execution_count": 16,
     "metadata": {},
     "output_type": "execute_result"
    }
   ],
   "source": [
    "#### if a string can be obtained by rotating another string by 2 places ####\n",
    "\n",
    "def isEqual(s1,s2):\n",
    "    l1 = len(s1)\n",
    "    l2 = len(s2)\n",
    "    if l1 != l2:\n",
    "        return False\n",
    "    \n",
    "    cwise = s1[2:] + s1[0:2]\n",
    "    anticwise = s1[l1-2:] + s1[0:l1-2]\n",
    "    \n",
    "    return (cwise == s2  or anticwise == s2)\n",
    "\n",
    "\n",
    "s1 = \"geeks\"\n",
    "s2 = \"eksge\"\n",
    "isEqual(s1,s2)\n",
    "    \n",
    "    "
   ]
  },
  {
   "cell_type": "code",
   "execution_count": 18,
   "metadata": {},
   "outputs": [
    {
     "data": {
      "text/plain": [
       "False"
      ]
     },
     "execution_count": 18,
     "metadata": {},
     "output_type": "execute_result"
    }
   ],
   "source": [
    "############ Anagram #############33\n",
    "# anagram is characters are same there order can be different\n",
    "\n",
    "def isAnagram(s1,s2):\n",
    "    if(sorted(s1) == sorted(s2)):\n",
    "        return True\n",
    "    else:\n",
    "        return False\n",
    "    \n",
    "isAnagram('bad','dad')"
   ]
  },
  {
   "cell_type": "code",
   "execution_count": 20,
   "metadata": {},
   "outputs": [
    {
     "data": {
      "text/plain": [
       "'geksfor'"
      ]
     },
     "execution_count": 20,
     "metadata": {},
     "output_type": "execute_result"
    }
   ],
   "source": [
    "###### Removing duplicates ############\n",
    "\n",
    "def rd(s):\n",
    "    l = len(s)\n",
    "    # Used as index in the modified string\n",
    "    index = 0\n",
    "    \n",
    "    # Traverse through all characters \n",
    "    for i in range(l):\n",
    "        # Check if str[i] is present before it \n",
    "        # we do till i+1 so that atleast we break at j is i\n",
    "        for j in range(0,i+1):\n",
    "            if s[i] == s[j]:\n",
    "                break\n",
    "        \n",
    "        #when j reaches i means element not present\n",
    "        # If not present, then add it to \n",
    "        # result.\n",
    "        \n",
    "        #only duplicate values will be updated no element will be lost \n",
    "        #while updation\n",
    "        if i == j:\n",
    "            s[index] = s[i]\n",
    "            index += 1\n",
    "    \n",
    "    return(''.join(s[:index]))\n",
    "\n",
    "rd(list('geeksforgeeks'))"
   ]
  },
  {
   "cell_type": "code",
   "execution_count": 29,
   "metadata": {},
   "outputs": [
    {
     "data": {
      "text/plain": [
       "1"
      ]
     },
     "execution_count": 29,
     "metadata": {},
     "output_type": "execute_result"
    }
   ],
   "source": [
    "############ Form a Palindrome ##################\n",
    "#recursion\n",
    "import sys\n",
    "\n",
    "def formPalindrome(s,l,r):\n",
    "    if l > r:\n",
    "        return sys.maxsize\n",
    "    if l == r:\n",
    "        return 0\n",
    "    if l == r-1:\n",
    "        if s[l] == s[r]:\n",
    "            return 0\n",
    "        else:\n",
    "            return 1\n",
    "    \n",
    "    if str[l] == str[r]:\n",
    "        return formPalindrome(s,l+1,r-1)\n",
    "    else:\n",
    "        return min(formPalindrome(s,l+1,r),formPalindrome(s,l,r-1) + 1)\n",
    "    \n",
    "    \n",
    "#dynamic programming\n",
    "def formPalindp(s,length):\n",
    "    dp = [[0 for i in range(length)] for i in range(length)]\n",
    "    l,h,gap = 0,0,0\n",
    "    \n",
    "    for gap in range(1,length):\n",
    "        l = 0\n",
    "        for h in range(gap,length):\n",
    "            if s[l] == s[h]:\n",
    "                dp[l][h] = dp[l+1][h-1]\n",
    "            else:\n",
    "                dp[l][h] = min(dp[l][h-1],dp[l+1][h]) + 1\n",
    "            \n",
    "            l = l + 1\n",
    "    return dp[0][length-1]\n",
    "\n",
    "formPalindp('java',len('java'))"
   ]
  },
  {
   "cell_type": "code",
   "execution_count": 30,
   "metadata": {},
   "outputs": [
    {
     "data": {
      "text/plain": [
       "12"
      ]
     },
     "execution_count": 30,
     "metadata": {},
     "output_type": "execute_result"
    }
   ],
   "source": [
    "s1 = \"rajat is in nvidia\"\n",
    "s2 = \"nvidia\"\n",
    "s1.find(\"nvidia\")"
   ]
  },
  {
   "cell_type": "code",
   "execution_count": 32,
   "metadata": {},
   "outputs": [],
   "source": [
    "############ Longest common prefix ####################3\n",
    "\n",
    "input = [\"geeksforgeeks\", \"geeks\",\"geek\", \"geezer\"] \n",
    "input.sort()"
   ]
  },
  {
   "cell_type": "code",
   "execution_count": 33,
   "metadata": {},
   "outputs": [
    {
     "data": {
      "text/plain": [
       "['geek', 'geeks', 'geeksforgeeks', 'geezer']"
      ]
     },
     "execution_count": 33,
     "metadata": {},
     "output_type": "execute_result"
    }
   ],
   "source": [
    "input"
   ]
  },
  {
   "cell_type": "code",
   "execution_count": 37,
   "metadata": {},
   "outputs": [
    {
     "data": {
      "text/plain": [
       "'gee'"
      ]
     },
     "execution_count": 37,
     "metadata": {},
     "output_type": "execute_result"
    }
   ],
   "source": [
    "# The longest common prefix for an array of strings is the \n",
    "# common prefix between 2 most dissimilar strings\n",
    "# So sort all strings and comsider string at 0 and end-1 position\n",
    "\n",
    "def longestCommonPrefix(s):\n",
    "    l = len(s)\n",
    "    if l == 0:\n",
    "        return \"\"\n",
    "    if l == 1:\n",
    "        return s[0]\n",
    "    \n",
    "    s.sort()\n",
    "    end = min(len(s[0]),len(s[l-1]))\n",
    "    i = 0\n",
    "    while i < end and s[0][i] == s[l-1][i]:\n",
    "        i = i+1\n",
    "        \n",
    "    return s[0][:i]\n",
    "\n",
    "\n",
    "input = [\"geeksforgeeks\", \"geeks\",\"geek\", \"geezer\"]\n",
    "longestCommonPrefix(input)"
   ]
  },
  {
   "cell_type": "code",
   "execution_count": null,
   "metadata": {},
   "outputs": [],
   "source": []
  }
 ],
 "metadata": {
  "kernelspec": {
   "display_name": "Python 3",
   "language": "python",
   "name": "python3"
  },
  "language_info": {
   "codemirror_mode": {
    "name": "ipython",
    "version": 3
   },
   "file_extension": ".py",
   "mimetype": "text/x-python",
   "name": "python",
   "nbconvert_exporter": "python",
   "pygments_lexer": "ipython3",
   "version": "3.6.5"
  }
 },
 "nbformat": 4,
 "nbformat_minor": 2
}
